{
  "cells": [
    {
      "cell_type": "code",
      "metadata": {
        "tags": [],
        "cell_id": "00000-4cafa3d0-80e2-4931-b4f5-7f5d3e34c46d",
        "deepnote_to_be_reexecuted": false,
        "source_hash": "67527e08",
        "execution_millis": 1061,
        "execution_start": 1615584429924,
        "deepnote_cell_type": "code"
      },
      "source": "import torch \nfrom torch.nn import Linear \nimport torch.nn as nn\nimport matplotlib.pyplot as plt\nimport numpy as np ",
      "execution_count": 1,
      "outputs": []
    },
    {
      "cell_type": "code",
      "source": "w = torch.tensor(23.8, requires_grad=True) \nb = torch.tensor(2.6, requires_grad=True)",
      "metadata": {
        "tags": [],
        "cell_id": "00001-47e68073-faf6-4698-968f-c8eba2210678",
        "deepnote_to_be_reexecuted": false,
        "source_hash": "e5b43560",
        "execution_start": 1615570490232,
        "execution_millis": 2,
        "deepnote_cell_type": "code"
      },
      "outputs": [],
      "execution_count": null
    },
    {
      "cell_type": "code",
      "source": "def forward(x):\n    y = w*x + b\n    return y ",
      "metadata": {
        "tags": [],
        "cell_id": "00002-4cf47651-b392-4468-a165-619137ed3b86",
        "deepnote_to_be_reexecuted": false,
        "source_hash": "4cd1507e",
        "execution_start": 1615570529548,
        "execution_millis": 0,
        "deepnote_cell_type": "code"
      },
      "outputs": [],
      "execution_count": null
    },
    {
      "cell_type": "code",
      "source": "x = torch.tensor([[4],[7]])\no = forward(x)\no",
      "metadata": {
        "tags": [],
        "cell_id": "00003-8118642a-4221-445b-83f9-53037ea1b742",
        "deepnote_to_be_reexecuted": false,
        "source_hash": "d226c6a8",
        "execution_millis": 6,
        "execution_start": 1615570613891,
        "deepnote_cell_type": "code"
      },
      "outputs": [
        {
          "output_type": "execute_result",
          "execution_count": 6,
          "data": {
            "text/plain": "tensor([[ 97.8000],\n        [169.2000]], grad_fn=<AddBackward0>)"
          },
          "metadata": {}
        }
      ],
      "execution_count": null
    },
    {
      "cell_type": "markdown",
      "source": "Standarised Linear Class implmentations ",
      "metadata": {
        "tags": [],
        "cell_id": "00004-3c8403d3-b975-4aed-93a0-aca75bae6168",
        "deepnote_cell_type": "markdown"
      }
    },
    {
      "cell_type": "code",
      "source": "torch.manual_seed(1)\nmodel = Linear(in_features=1, out_features=1)\nprint(model.bias, model.weight)",
      "metadata": {
        "tags": [],
        "cell_id": "00004-2f265415-2484-44fa-8071-22dccefaa635",
        "deepnote_to_be_reexecuted": false,
        "source_hash": "e933db62",
        "execution_millis": 29,
        "execution_start": 1615570793696,
        "deepnote_cell_type": "code"
      },
      "outputs": [
        {
          "name": "stdout",
          "text": "Parameter containing:\ntensor([-0.4414], requires_grad=True) Parameter containing:\ntensor([[0.5153]], requires_grad=True)\n",
          "output_type": "stream"
        }
      ],
      "execution_count": null
    },
    {
      "cell_type": "code",
      "source": "x = torch.tensor([[2.0], [3.3], [7.6]])\nmodel(x)",
      "metadata": {
        "tags": [],
        "cell_id": "00006-15c814d4-dac5-4269-91aa-0cc3178882ad",
        "deepnote_to_be_reexecuted": false,
        "source_hash": "8c20b8c4",
        "execution_millis": 13,
        "execution_start": 1615570865802,
        "deepnote_cell_type": "code"
      },
      "outputs": [
        {
          "output_type": "execute_result",
          "execution_count": 11,
          "data": {
            "text/plain": "tensor([[0.5891],\n        [1.2590],\n        [3.4746]], grad_fn=<AddmmBackward>)"
          },
          "metadata": {}
        }
      ],
      "execution_count": null
    },
    {
      "cell_type": "markdown",
      "source": "### Custom Modules\n",
      "metadata": {
        "tags": [],
        "cell_id": "00007-bdde0070-717c-4a20-a77f-2ef0789638af",
        "deepnote_cell_type": "markdown"
      }
    },
    {
      "cell_type": "code",
      "source": "torch.manual_seed(1)\nclass LR(nn.Module):\n    def __init__(self, in_size, output_size):\n        super().__init__()\n        self.linear = nn.Linear(in_size, output_size)\n    def forward(self,x):\n        pred = self.linear(x)\n        return pred\n",
      "metadata": {
        "tags": [],
        "cell_id": "00007-0cf29e43-5b71-48d6-aedb-6778e492724f",
        "deepnote_to_be_reexecuted": false,
        "source_hash": "15b4d1ab",
        "execution_millis": 12,
        "execution_start": 1615571433339,
        "deepnote_cell_type": "code"
      },
      "outputs": [],
      "execution_count": null
    },
    {
      "cell_type": "code",
      "source": "new_model = LR(1,1)\nprint(list(new_model.parameters()))",
      "metadata": {
        "tags": [],
        "cell_id": "00009-dcb01d45-68aa-4be7-be47-c3f4293e253a",
        "deepnote_to_be_reexecuted": false,
        "source_hash": "d8608ed0",
        "execution_millis": 5,
        "execution_start": 1615571454567,
        "deepnote_cell_type": "code"
      },
      "outputs": [
        {
          "name": "stdout",
          "text": "[Parameter containing:\ntensor([[0.5153]], requires_grad=True), Parameter containing:\ntensor([-0.4414], requires_grad=True)]\n",
          "output_type": "stream"
        }
      ],
      "execution_count": null
    },
    {
      "cell_type": "code",
      "source": "xx = torch.tensor([[1.0],[2.0],[3.0]])\nnew_model.forward(xx)",
      "metadata": {
        "tags": [],
        "cell_id": "00010-8d0bd22d-462d-49ee-a258-ffea0d69f6e1",
        "deepnote_to_be_reexecuted": false,
        "source_hash": "893d7095",
        "execution_millis": 24,
        "execution_start": 1615571489725,
        "deepnote_cell_type": "code"
      },
      "outputs": [
        {
          "output_type": "execute_result",
          "execution_count": 21,
          "data": {
            "text/plain": "tensor([[0.0739],\n        [0.5891],\n        [1.1044]], grad_fn=<AddmmBackward>)"
          },
          "metadata": {}
        }
      ],
      "execution_count": null
    },
    {
      "cell_type": "markdown",
      "source": "### Make Predictions with real data",
      "metadata": {
        "tags": [],
        "cell_id": "00011-95d4cdbb-486a-45ec-98bd-25a226d55184",
        "deepnote_cell_type": "markdown"
      }
    },
    {
      "cell_type": "code",
      "source": "X = torch.randn(100,1)*10\ny = X + torch.randn(100,1)*3\nplt.plot(X.numpy(), y.numpy(), 'o')\nplt.ylabel(\"y\")\nplt.xlabel(\"X\")",
      "metadata": {
        "tags": [],
        "cell_id": "00011-b9250273-5de1-4c55-8861-bed8330a2c3e",
        "deepnote_to_be_reexecuted": false,
        "source_hash": "2132b79c",
        "execution_millis": 192,
        "execution_start": 1615584438954,
        "deepnote_cell_type": "code"
      },
      "outputs": [
        {
          "output_type": "execute_result",
          "execution_count": 2,
          "data": {
            "text/plain": "Text(0.5, 0, 'X')"
          },
          "metadata": {}
        },
        {
          "data": {
            "text/plain": "<Figure size 432x288 with 1 Axes>",
            "image/png": "[encoded data removed]"
          },
          "metadata": {
            "needs_background": "light"
          },
          "output_type": "display_data"
        }
      ],
      "execution_count": 2
    },
    {
      "cell_type": "code",
      "source": "class LRNet(nn.Module):\n    def __init__(self, in_size, out_size):\n        super().__init__()\n        self.lin = nn.Linear(in_size, out_size)\n    def forward(self,x):\n        x = self.lin(x)\n        return x",
      "metadata": {
        "tags": [],
        "cell_id": "00014-d0479e19-b052-46cd-a22f-f892e6bada8f",
        "deepnote_to_be_reexecuted": false,
        "source_hash": "e440a8ba",
        "execution_millis": 2,
        "execution_start": 1615584441483,
        "deepnote_cell_type": "code"
      },
      "outputs": [],
      "execution_count": 3
    },
    {
      "cell_type": "code",
      "source": "torch.manual_seed(1)\nmodel = LRNet(1,1)",
      "metadata": {
        "tags": [],
        "cell_id": "00014-10aa2fd1-be06-447d-8fd4-ebfc8906b792",
        "deepnote_to_be_reexecuted": false,
        "source_hash": "59c6f4b1",
        "execution_millis": 12,
        "execution_start": 1615584442863,
        "deepnote_cell_type": "code"
      },
      "outputs": [],
      "execution_count": 4
    },
    {
      "cell_type": "code",
      "source": "def get_params(model):\n    [w,b] = model.parameters()\n    w1 = w[0][0].item()\n    b1 = b[0].item()\n    return (w1,b1)\nget_params(model)",
      "metadata": {
        "tags": [],
        "cell_id": "00015-f4466c90-1b45-4668-8ebb-86774b8510a1",
        "deepnote_to_be_reexecuted": false,
        "source_hash": "e66a7504",
        "execution_millis": 6,
        "execution_start": 1615584447097,
        "deepnote_cell_type": "code"
      },
      "outputs": [
        {
          "output_type": "execute_result",
          "execution_count": 5,
          "data": {
            "text/plain": "(0.5152631998062134, -0.44137823581695557)"
          },
          "metadata": {}
        }
      ],
      "execution_count": 5
    },
    {
      "cell_type": "code",
      "source": "def plot_fit(title, model):\n    plt.title = title\n    w1, b1 = get_params(model)\n    x1 = np.array([-30,30])\n    y1 = w1*x1 + b1\n    plt.plot(x1,y1, \"r\")\n    plt.scatter(X, y)\n    plt.show()",
      "metadata": {
        "tags": [],
        "cell_id": "00016-2a85e6c8-8b66-483c-8169-869ed5de8475",
        "deepnote_to_be_reexecuted": false,
        "source_hash": "5b5cf6ec",
        "execution_millis": 0,
        "execution_start": 1615584449867,
        "deepnote_cell_type": "code"
      },
      "outputs": [],
      "execution_count": 6
    },
    {
      "cell_type": "code",
      "source": "plot_fit(\"Inital model\", model)",
      "metadata": {
        "tags": [],
        "cell_id": "00017-d498ef33-2384-48d9-a7f0-fe8a583a12bb",
        "deepnote_to_be_reexecuted": false,
        "source_hash": "8de51aa6",
        "execution_millis": 139,
        "execution_start": 1615584452262,
        "deepnote_cell_type": "code"
      },
      "outputs": [
        {
          "data": {
            "text/plain": "<Figure size 432x288 with 1 Axes>",
            "image/png": "[encoded data removed]"
          },
          "metadata": {
            "needs_background": "light"
          },
          "output_type": "display_data"
        }
      ],
      "execution_count": 7
    },
    {
      "cell_type": "code",
      "source": "criertion = nn.MSELoss()\noptimiser = torch.optim.SGD(model.parameters(), lr=0.01)",
      "metadata": {
        "tags": [],
        "cell_id": "00018-3940094f-c717-453a-907d-2677af9669b7",
        "deepnote_to_be_reexecuted": false,
        "source_hash": "b33e6fc2",
        "execution_millis": 0,
        "execution_start": 1615584456242,
        "deepnote_cell_type": "code"
      },
      "outputs": [],
      "execution_count": 8
    },
    {
      "cell_type": "code",
      "source": "epochs = 150\nlosses = []\nfor i in range(epochs):\n    y_pred = model.forward(X)\n    loss = criertion(y_pred,y)\n    print(\"epoch: \",i, \" Loss: \", loss.item())\n    \n    losses.append(loss)\n    optimiser.zero_grad()\n    loss.backward()\n    optimiser.step()",
      "metadata": {
        "tags": [],
        "cell_id": "00019-af0a999a-0488-4b6e-8d45-433ed7c182f4",
        "deepnote_to_be_reexecuted": false,
        "source_hash": "18047548",
        "execution_millis": 163,
        "execution_start": 1615584457684,
        "deepnote_cell_type": "code"
      },
      "outputs": [
        {
          "name": "stdout",
          "text": "epoch:  0  Loss:  26.968576431274414\nepoch:  1  Loss:  13.405691146850586\nepoch:  2  Loss:  9.644532203674316\nepoch:  3  Loss:  8.598679542541504\nepoch:  4  Loss:  8.305137634277344\nepoch:  5  Loss:  8.22014045715332\nepoch:  6  Loss:  8.1930570602417\nepoch:  7  Loss:  8.182153701782227\nepoch:  8  Loss:  8.175868034362793\nepoch:  9  Loss:  8.170987129211426\nepoch:  10  Loss:  8.166621208190918\nepoch:  11  Loss:  8.162515640258789\nepoch:  12  Loss:  8.158596992492676\nepoch:  13  Loss:  8.154838562011719\nepoch:  14  Loss:  8.151230812072754\nepoch:  15  Loss:  8.1477632522583\nepoch:  16  Loss:  8.144434928894043\nepoch:  17  Loss:  8.141236305236816\nepoch:  18  Loss:  8.138162612915039\nepoch:  19  Loss:  8.135210990905762\nepoch:  20  Loss:  8.132375717163086\nepoch:  21  Loss:  8.129651069641113\nepoch:  22  Loss:  8.127034187316895\nepoch:  23  Loss:  8.124520301818848\nepoch:  24  Loss:  8.122105598449707\nepoch:  25  Loss:  8.119784355163574\nepoch:  26  Loss:  8.117554664611816\nepoch:  27  Loss:  8.1154146194458\nepoch:  28  Loss:  8.113357543945312\nepoch:  29  Loss:  8.111381530761719\nepoch:  30  Loss:  8.10948371887207\nepoch:  31  Loss:  8.107658386230469\nepoch:  32  Loss:  8.105907440185547\nepoch:  33  Loss:  8.104225158691406\nepoch:  34  Loss:  8.102607727050781\nepoch:  35  Loss:  8.101055145263672\nepoch:  36  Loss:  8.099562644958496\nepoch:  37  Loss:  8.098128318786621\nepoch:  38  Loss:  8.096752166748047\nepoch:  39  Loss:  8.095429420471191\nepoch:  40  Loss:  8.094158172607422\nepoch:  41  Loss:  8.092937469482422\nepoch:  42  Loss:  8.091763496398926\nepoch:  43  Loss:  8.09063720703125\nepoch:  44  Loss:  8.089554786682129\nepoch:  45  Loss:  8.088515281677246\nepoch:  46  Loss:  8.087515830993652\nepoch:  47  Loss:  8.086556434631348\nepoch:  48  Loss:  8.0856351852417\nepoch:  49  Loss:  8.084749221801758\nepoch:  50  Loss:  8.083897590637207\nepoch:  51  Loss:  8.083081245422363\nepoch:  52  Loss:  8.082294464111328\nepoch:  53  Loss:  8.081542015075684\nepoch:  54  Loss:  8.080818176269531\nepoch:  55  Loss:  8.080121040344238\nepoch:  56  Loss:  8.079451560974121\nepoch:  57  Loss:  8.07880973815918\nepoch:  58  Loss:  8.078192710876465\nepoch:  59  Loss:  8.077600479125977\nepoch:  60  Loss:  8.077030181884766\nepoch:  61  Loss:  8.076482772827148\nepoch:  62  Loss:  8.075957298278809\nepoch:  63  Loss:  8.07545280456543\nepoch:  64  Loss:  8.074967384338379\nepoch:  65  Loss:  8.074501037597656\nepoch:  66  Loss:  8.074053764343262\nepoch:  67  Loss:  8.073622703552246\nepoch:  68  Loss:  8.073210716247559\nepoch:  69  Loss:  8.072813987731934\nepoch:  70  Loss:  8.072432518005371\nepoch:  71  Loss:  8.072066307067871\nepoch:  72  Loss:  8.0717134475708\nepoch:  73  Loss:  8.071375846862793\nepoch:  74  Loss:  8.071050643920898\nepoch:  75  Loss:  8.07073974609375\nepoch:  76  Loss:  8.070439338684082\nepoch:  77  Loss:  8.070152282714844\nepoch:  78  Loss:  8.069875717163086\nepoch:  79  Loss:  8.069609642028809\nepoch:  80  Loss:  8.069355010986328\nepoch:  81  Loss:  8.069109916687012\nepoch:  82  Loss:  8.06887435913086\nepoch:  83  Loss:  8.068647384643555\nepoch:  84  Loss:  8.068429946899414\nepoch:  85  Loss:  8.068221092224121\nepoch:  86  Loss:  8.06801986694336\nepoch:  87  Loss:  8.067828178405762\nepoch:  88  Loss:  8.067643165588379\nepoch:  89  Loss:  8.067464828491211\nepoch:  90  Loss:  8.067294120788574\nepoch:  91  Loss:  8.067129135131836\nepoch:  92  Loss:  8.066972732543945\nepoch:  93  Loss:  8.06682014465332\nepoch:  94  Loss:  8.066675186157227\nepoch:  95  Loss:  8.066535949707031\nepoch:  96  Loss:  8.066400527954102\nepoch:  97  Loss:  8.066271781921387\nepoch:  98  Loss:  8.066147804260254\nepoch:  99  Loss:  8.066028594970703\nepoch:  100  Loss:  8.06591510772705\nepoch:  101  Loss:  8.065804481506348\nepoch:  102  Loss:  8.065698623657227\nepoch:  103  Loss:  8.065598487854004\nepoch:  104  Loss:  8.065500259399414\nepoch:  105  Loss:  8.065406799316406\nepoch:  106  Loss:  8.065317153930664\nepoch:  107  Loss:  8.065230369567871\nepoch:  108  Loss:  8.065147399902344\nepoch:  109  Loss:  8.065068244934082\nepoch:  110  Loss:  8.064990997314453\nepoch:  111  Loss:  8.064916610717773\nepoch:  112  Loss:  8.06484603881836\nepoch:  113  Loss:  8.064779281616211\nepoch:  114  Loss:  8.064713478088379\nepoch:  115  Loss:  8.064650535583496\nepoch:  116  Loss:  8.064591407775879\nepoch:  117  Loss:  8.064533233642578\nepoch:  118  Loss:  8.064477920532227\nepoch:  119  Loss:  8.064423561096191\nepoch:  120  Loss:  8.064373016357422\nepoch:  121  Loss:  8.064323425292969\nepoch:  122  Loss:  8.064276695251465\nepoch:  123  Loss:  8.064230918884277\nepoch:  124  Loss:  8.064187049865723\nepoch:  125  Loss:  8.0641450881958\nepoch:  126  Loss:  8.064105033874512\nepoch:  127  Loss:  8.064065933227539\nepoch:  128  Loss:  8.0640287399292\nepoch:  129  Loss:  8.063993453979492\nepoch:  130  Loss:  8.063959121704102\nepoch:  131  Loss:  8.063925743103027\nepoch:  132  Loss:  8.063894271850586\nepoch:  133  Loss:  8.063863754272461\nepoch:  134  Loss:  8.063834190368652\nepoch:  135  Loss:  8.063807487487793\nepoch:  136  Loss:  8.0637788772583\nepoch:  137  Loss:  8.063754081726074\nepoch:  138  Loss:  8.063728332519531\nepoch:  139  Loss:  8.063704490661621\nepoch:  140  Loss:  8.063682556152344\nepoch:  141  Loss:  8.06365966796875\nepoch:  142  Loss:  8.063638687133789\nepoch:  143  Loss:  8.063617706298828\nepoch:  144  Loss:  8.0635986328125\nepoch:  145  Loss:  8.063580513000488\nepoch:  146  Loss:  8.063562393188477\nepoch:  147  Loss:  8.063545227050781\nepoch:  148  Loss:  8.063528060913086\nepoch:  149  Loss:  8.063512802124023\n/shared-libs/python3.7/py/lib/python3.7/site-packages/torch/autograd/__init__.py:132: UserWarning: CUDA initialization: Found no NVIDIA driver on your system. Please check that you have an NVIDIA GPU and installed a driver from http://www.nvidia.com/Download/index.aspx (Triggered internally at  /pytorch/c10/cuda/CUDAFunctions.cpp:100.)\n  allow_unreachable=True)  # allow_unreachable flag\n",
          "output_type": "stream"
        }
      ],
      "execution_count": 9
    },
    {
      "cell_type": "code",
      "source": "plt.plot(range(epochs),losses)\nplt.ylabel(\"Losss\")\nplt.xlabel(\"Epochs\")",
      "metadata": {
        "tags": [],
        "cell_id": "00020-2264706c-9b8a-4446-86d9-d130aa45eae4",
        "deepnote_to_be_reexecuted": false,
        "source_hash": "2d914b1",
        "execution_millis": 159,
        "execution_start": 1615584466108,
        "deepnote_cell_type": "code"
      },
      "outputs": [
        {
          "output_type": "execute_result",
          "execution_count": 10,
          "data": {
            "text/plain": "Text(0.5, 0, 'Epochs')"
          },
          "metadata": {}
        },
        {
          "data": {
            "text/plain": "<Figure size 432x288 with 1 Axes>",
            "image/png": "[encoded data removed]"
          },
          "metadata": {
            "needs_background": "light"
          },
          "output_type": "display_data"
        }
      ],
      "execution_count": 10
    },
    {
      "cell_type": "code",
      "source": "plot_fit(\"New Model\", model)",
      "metadata": {
        "tags": [],
        "cell_id": "00021-cbdf631c-b7f8-4dea-9aa2-85b10ac22ac0",
        "deepnote_to_be_reexecuted": false,
        "source_hash": "4ae2e85d",
        "execution_start": 1615584600333,
        "execution_millis": 135,
        "deepnote_cell_type": "code"
      },
      "outputs": [
        {
          "data": {
            "text/plain": "<Figure size 432x288 with 1 Axes>",
            "image/png": "[encoded data removed]"
          },
          "metadata": {
            "needs_background": "light"
          },
          "output_type": "display_data"
        }
      ],
      "execution_count": 11
    },
    {
      "cell_type": "code",
      "source": "",
      "metadata": {
        "tags": [],
        "cell_id": "00022-dda0ad0a-abae-452c-b805-f34ba5f9d330",
        "deepnote_cell_type": "code"
      },
      "outputs": [],
      "execution_count": null
    },
    {
      "cell_type": "markdown",
      "source": "<a style='text-decoration:none;line-height:16px;display:flex;color:#5B5B62;padding:10px;justify-content:end;' href='https://deepnote.com?utm_source=created-in-deepnote-cell&projectId=1f2c43c5-a4e6-49b6-bbf9-a3058ab537e6' target=\"_blank\">\n<img style='display:inline;max-height:16px;margin:0px;margin-right:7.5px;' src='data:image/svg+xml;base64,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' > </img>\nCreated in <span style='font-weight:600;margin-left:4px;'>Deepnote</span></a>",
      "metadata": {
        "tags": [],
        "created_in_deepnote_cell": true,
        "deepnote_cell_type": "markdown"
      }
    }
  ],
  "nbformat": 4,
  "nbformat_minor": 2,
  "metadata": {
    "orig_nbformat": 2,
    "deepnote_notebook_id": "d4e33b48-adb6-4527-a3d8-d98b0856acb3",
    "deepnote": {},
    "deepnote_execution_queue": []
  }
}